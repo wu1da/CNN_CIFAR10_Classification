{
 "cells": [
  {
   "cell_type": "markdown",
   "id": "9e26c252",
   "metadata": {},
   "source": [
    "#  CNN Classification"
   ]
  },
  {
   "cell_type": "markdown",
   "id": "7a9433da",
   "metadata": {},
   "source": [
    "## Description of the Task"
   ]
  },
  {
   "cell_type": "markdown",
   "id": "987b5f6b",
   "metadata": {},
   "source": [
    "The objective is to train a Convolutional Neural Network (CNN) to perform a binary classification task on the CIFAR-10 dataset. The CIFAR-10 dataset consists of 60,000 32x32 color images in 10 different classes, with 6,000 images per class. The task involves grouping these images into two categories based on whether the object depicted in the image can fly or not:\n",
    "\n",
    "- Can Fly (class 1): Includes images of birds and airplanes.\n",
    "- Cannot Fly (class 0): Includes images of frogs, deer, trucks, automobiles, horses, ships, dogs, and cats.\n",
    "\n",
    "The goal is to select an appropriate CNN architecture, loss function, and evaluation strategy to effectively classify the images into these two categories. The model's performance will be evaluated on a test set using metrics such as precision, recall, F1-score, and accuracy.Aconfusion matrix will be generated to provide a detailed breakdown of the model's performance."
   ]
  },
  {
   "cell_type": "markdown",
   "id": "769ea906",
   "metadata": {},
   "source": [
    "\n",
    "## Data Preparation\n",
    "\n",
    "We first load the CIFAR-10 dataset, which contains 60,000 images of 10 different classes.\n",
    "Here, we modify the labels for binary classification based on whether the objects can fly or not.\n",
    "Then, we preprocess the images by scaling the pixel values.\n"
   ]
  },
  {
   "cell_type": "code",
   "execution_count": 2,
   "id": "b163efd7",
   "metadata": {},
   "outputs": [],
   "source": [
    "\n",
    "import tensorflow as tf\n",
    "from tensorflow.keras.datasets import cifar10\n",
    "from tensorflow.keras.utils import to_categorical\n",
    "import numpy as np\n",
    "\n",
    "# Load CIFAR-10 dataset\n",
    "(x_train, y_train), (x_test, y_test) = cifar10.load_data()\n",
    "\n",
    "# Categories for 'can fly' (1) and 'cannot fly' (0)\n",
    "can_fly = [0, 2]  # 0: airplane, 2: bird\n",
    "cannot_fly = [1, 3, 4, 5, 6, 7, 8, 9]  # other categories\n",
    "\n",
    "# Modify labels for binary classification\n",
    "y_train_bin = np.isin(y_train.flatten(), can_fly).astype(int)\n",
    "y_test_bin = np.isin(y_test.flatten(), can_fly).astype(int)\n",
    "\n",
    "# One-hot encoding\n",
    "y_train_bin = to_categorical(y_train_bin, 2)\n",
    "y_test_bin = to_categorical(y_test_bin, 2)\n",
    "\n",
    "# Preprocess data: scale images\n",
    "x_train = x_train.astype('float32') / 255\n",
    "x_test = x_test.astype('float32') / 255\n"
   ]
  },
  {
   "cell_type": "markdown",
   "id": "cc77ac51",
   "metadata": {},
   "source": [
    "\n",
    "## Build the CNN Architecture\n",
    "We build a CNN model with specific layers configured for the classification task. The model includes convolutional layers, max pooling, dropout for regularization, and dense layers for classification.\n"
   ]
  },
  {
   "cell_type": "code",
   "execution_count": 3,
   "id": "7cd21728",
   "metadata": {},
   "outputs": [
    {
     "name": "stderr",
     "output_type": "stream",
     "text": [
      "C:\\Users\\pavnd\\anaconda3\\Lib\\site-packages\\keras\\src\\layers\\convolutional\\base_conv.py:107: UserWarning: Do not pass an `input_shape`/`input_dim` argument to a layer. When using Sequential models, prefer using an `Input(shape)` object as the first layer in the model instead.\n",
      "  super().__init__(activity_regularizer=activity_regularizer, **kwargs)\n"
     ]
    }
   ],
   "source": [
    "\n",
    "from tensorflow.keras.models import Sequential\n",
    "from tensorflow.keras.layers import Conv2D, MaxPooling2D, Flatten, Dense, Dropout, BatchNormalization\n",
    "\n",
    "model = Sequential([\n",
    "    Conv2D(32, (3, 3), activation='relu', input_shape=(32, 32, 3)),\n",
    "    BatchNormalization(),\n",
    "    MaxPooling2D((2, 2)),\n",
    "    Dropout(0.2),\n",
    "    \n",
    "    Conv2D(64, (3, 3), activation='relu'),\n",
    "    BatchNormalization(),\n",
    "    MaxPooling2D((2, 2)),\n",
    "    Dropout(0.3),\n",
    "    \n",
    "    Flatten(),\n",
    "    Dense(128, activation='relu'),\n",
    "    BatchNormalization(),\n",
    "    Dropout(0.4),\n",
    "    Dense(2, activation='softmax')\n",
    "])\n"
   ]
  },
  {
   "cell_type": "markdown",
   "id": "df0df526",
   "metadata": {},
   "source": [
    "\n",
    "## Compile and Train the Model\n",
    "We compile the model with the Adam optimizer and categorical crossentropy loss function. We then train the model on the training data and validate it using a subset.\n"
   ]
  },
  {
   "cell_type": "code",
   "execution_count": 4,
   "id": "762ecfef",
   "metadata": {},
   "outputs": [
    {
     "name": "stdout",
     "output_type": "stream",
     "text": [
      "Epoch 1/30\n",
      "\u001b[1m665/665\u001b[0m \u001b[32m━━━━━━━━━━━━━━━━━━━━\u001b[0m\u001b[37m\u001b[0m \u001b[1m21s\u001b[0m 27ms/step - accuracy: 0.7315 - loss: 0.6299 - val_accuracy: 0.7185 - val_loss: 0.5641\n",
      "Epoch 2/30\n",
      "\u001b[1m665/665\u001b[0m \u001b[32m━━━━━━━━━━━━━━━━━━━━\u001b[0m\u001b[37m\u001b[0m \u001b[1m17s\u001b[0m 26ms/step - accuracy: 0.8377 - loss: 0.3861 - val_accuracy: 0.8433 - val_loss: 0.3916\n",
      "Epoch 3/30\n",
      "\u001b[1m665/665\u001b[0m \u001b[32m━━━━━━━━━━━━━━━━━━━━\u001b[0m\u001b[37m\u001b[0m \u001b[1m18s\u001b[0m 27ms/step - accuracy: 0.8584 - loss: 0.3412 - val_accuracy: 0.8580 - val_loss: 0.3363\n",
      "Epoch 4/30\n",
      "\u001b[1m665/665\u001b[0m \u001b[32m━━━━━━━━━━━━━━━━━━━━\u001b[0m\u001b[37m\u001b[0m \u001b[1m18s\u001b[0m 27ms/step - accuracy: 0.8723 - loss: 0.3114 - val_accuracy: 0.8708 - val_loss: 0.3097\n",
      "Epoch 5/30\n",
      "\u001b[1m665/665\u001b[0m \u001b[32m━━━━━━━━━━━━━━━━━━━━\u001b[0m\u001b[37m\u001b[0m \u001b[1m18s\u001b[0m 27ms/step - accuracy: 0.8758 - loss: 0.3061 - val_accuracy: 0.8323 - val_loss: 0.3820\n",
      "Epoch 6/30\n",
      "\u001b[1m665/665\u001b[0m \u001b[32m━━━━━━━━━━━━━━━━━━━━\u001b[0m\u001b[37m\u001b[0m \u001b[1m18s\u001b[0m 27ms/step - accuracy: 0.8810 - loss: 0.2912 - val_accuracy: 0.8909 - val_loss: 0.2780\n",
      "Epoch 7/30\n",
      "\u001b[1m665/665\u001b[0m \u001b[32m━━━━━━━━━━━━━━━━━━━━\u001b[0m\u001b[37m\u001b[0m \u001b[1m17s\u001b[0m 25ms/step - accuracy: 0.8833 - loss: 0.2821 - val_accuracy: 0.8620 - val_loss: 0.3627\n",
      "Epoch 8/30\n",
      "\u001b[1m665/665\u001b[0m \u001b[32m━━━━━━━━━━━━━━━━━━━━\u001b[0m\u001b[37m\u001b[0m \u001b[1m16s\u001b[0m 24ms/step - accuracy: 0.8765 - loss: 0.3029 - val_accuracy: 0.7568 - val_loss: 0.5214\n",
      "Epoch 9/30\n",
      "\u001b[1m665/665\u001b[0m \u001b[32m━━━━━━━━━━━━━━━━━━━━\u001b[0m\u001b[37m\u001b[0m \u001b[1m17s\u001b[0m 26ms/step - accuracy: 0.8914 - loss: 0.2618 - val_accuracy: 0.8876 - val_loss: 0.2828\n",
      "Epoch 10/30\n",
      "\u001b[1m665/665\u001b[0m \u001b[32m━━━━━━━━━━━━━━━━━━━━\u001b[0m\u001b[37m\u001b[0m \u001b[1m18s\u001b[0m 27ms/step - accuracy: 0.8990 - loss: 0.2482 - val_accuracy: 0.8784 - val_loss: 0.3345\n",
      "Epoch 11/30\n",
      "\u001b[1m665/665\u001b[0m \u001b[32m━━━━━━━━━━━━━━━━━━━━\u001b[0m\u001b[37m\u001b[0m \u001b[1m17s\u001b[0m 25ms/step - accuracy: 0.9020 - loss: 0.2411 - val_accuracy: 0.8133 - val_loss: 0.4192\n",
      "Epoch 12/30\n",
      "\u001b[1m665/665\u001b[0m \u001b[32m━━━━━━━━━━━━━━━━━━━━\u001b[0m\u001b[37m\u001b[0m \u001b[1m16s\u001b[0m 24ms/step - accuracy: 0.9043 - loss: 0.2366 - val_accuracy: 0.8984 - val_loss: 0.2676\n",
      "Epoch 13/30\n",
      "\u001b[1m665/665\u001b[0m \u001b[32m━━━━━━━━━━━━━━━━━━━━\u001b[0m\u001b[37m\u001b[0m \u001b[1m16s\u001b[0m 24ms/step - accuracy: 0.9080 - loss: 0.2302 - val_accuracy: 0.8748 - val_loss: 0.2950\n",
      "Epoch 14/30\n",
      "\u001b[1m665/665\u001b[0m \u001b[32m━━━━━━━━━━━━━━━━━━━━\u001b[0m\u001b[37m\u001b[0m \u001b[1m16s\u001b[0m 24ms/step - accuracy: 0.9087 - loss: 0.2266 - val_accuracy: 0.8920 - val_loss: 0.2714\n",
      "Epoch 15/30\n",
      "\u001b[1m665/665\u001b[0m \u001b[32m━━━━━━━━━━━━━━━━━━━━\u001b[0m\u001b[37m\u001b[0m \u001b[1m16s\u001b[0m 24ms/step - accuracy: 0.9132 - loss: 0.2168 - val_accuracy: 0.9016 - val_loss: 0.2551\n",
      "Epoch 16/30\n",
      "\u001b[1m665/665\u001b[0m \u001b[32m━━━━━━━━━━━━━━━━━━━━\u001b[0m\u001b[37m\u001b[0m \u001b[1m16s\u001b[0m 24ms/step - accuracy: 0.9167 - loss: 0.2061 - val_accuracy: 0.9049 - val_loss: 0.2483\n",
      "Epoch 17/30\n",
      "\u001b[1m665/665\u001b[0m \u001b[32m━━━━━━━━━━━━━━━━━━━━\u001b[0m\u001b[37m\u001b[0m \u001b[1m17s\u001b[0m 25ms/step - accuracy: 0.9148 - loss: 0.2125 - val_accuracy: 0.8899 - val_loss: 0.3102\n",
      "Epoch 18/30\n",
      "\u001b[1m665/665\u001b[0m \u001b[32m━━━━━━━━━━━━━━━━━━━━\u001b[0m\u001b[37m\u001b[0m \u001b[1m17s\u001b[0m 25ms/step - accuracy: 0.9220 - loss: 0.1981 - val_accuracy: 0.9035 - val_loss: 0.2492\n",
      "Epoch 19/30\n",
      "\u001b[1m665/665\u001b[0m \u001b[32m━━━━━━━━━━━━━━━━━━━━\u001b[0m\u001b[37m\u001b[0m \u001b[1m18s\u001b[0m 27ms/step - accuracy: 0.9210 - loss: 0.1957 - val_accuracy: 0.9069 - val_loss: 0.2455\n",
      "Epoch 20/30\n",
      "\u001b[1m665/665\u001b[0m \u001b[32m━━━━━━━━━━━━━━━━━━━━\u001b[0m\u001b[37m\u001b[0m \u001b[1m18s\u001b[0m 27ms/step - accuracy: 0.9127 - loss: 0.2126 - val_accuracy: 0.9055 - val_loss: 0.2421\n",
      "Epoch 21/30\n",
      "\u001b[1m665/665\u001b[0m \u001b[32m━━━━━━━━━━━━━━━━━━━━\u001b[0m\u001b[37m\u001b[0m \u001b[1m18s\u001b[0m 26ms/step - accuracy: 0.9262 - loss: 0.1827 - val_accuracy: 0.8661 - val_loss: 0.3117\n",
      "Epoch 22/30\n",
      "\u001b[1m665/665\u001b[0m \u001b[32m━━━━━━━━━━━━━━━━━━━━\u001b[0m\u001b[37m\u001b[0m \u001b[1m18s\u001b[0m 26ms/step - accuracy: 0.9264 - loss: 0.1797 - val_accuracy: 0.8992 - val_loss: 0.2541\n",
      "Epoch 23/30\n",
      "\u001b[1m665/665\u001b[0m \u001b[32m━━━━━━━━━━━━━━━━━━━━\u001b[0m\u001b[37m\u001b[0m \u001b[1m18s\u001b[0m 28ms/step - accuracy: 0.9253 - loss: 0.1856 - val_accuracy: 0.8976 - val_loss: 0.2789\n",
      "Epoch 24/30\n",
      "\u001b[1m665/665\u001b[0m \u001b[32m━━━━━━━━━━━━━━━━━━━━\u001b[0m\u001b[37m\u001b[0m \u001b[1m18s\u001b[0m 27ms/step - accuracy: 0.9234 - loss: 0.1916 - val_accuracy: 0.9095 - val_loss: 0.2490\n",
      "Epoch 25/30\n",
      "\u001b[1m665/665\u001b[0m \u001b[32m━━━━━━━━━━━━━━━━━━━━\u001b[0m\u001b[37m\u001b[0m \u001b[1m18s\u001b[0m 26ms/step - accuracy: 0.9298 - loss: 0.1729 - val_accuracy: 0.9051 - val_loss: 0.2461\n",
      "Epoch 26/30\n",
      "\u001b[1m665/665\u001b[0m \u001b[32m━━━━━━━━━━━━━━━━━━━━\u001b[0m\u001b[37m\u001b[0m \u001b[1m18s\u001b[0m 26ms/step - accuracy: 0.9361 - loss: 0.1628 - val_accuracy: 0.8989 - val_loss: 0.2652\n",
      "Epoch 27/30\n",
      "\u001b[1m665/665\u001b[0m \u001b[32m━━━━━━━━━━━━━━━━━━━━\u001b[0m\u001b[37m\u001b[0m \u001b[1m18s\u001b[0m 26ms/step - accuracy: 0.9310 - loss: 0.1697 - val_accuracy: 0.8845 - val_loss: 0.3729\n",
      "Epoch 28/30\n",
      "\u001b[1m665/665\u001b[0m \u001b[32m━━━━━━━━━━━━━━━━━━━━\u001b[0m\u001b[37m\u001b[0m \u001b[1m18s\u001b[0m 26ms/step - accuracy: 0.9351 - loss: 0.1598 - val_accuracy: 0.8979 - val_loss: 0.2837\n",
      "Epoch 29/30\n",
      "\u001b[1m665/665\u001b[0m \u001b[32m━━━━━━━━━━━━━━━━━━━━\u001b[0m\u001b[37m\u001b[0m \u001b[1m18s\u001b[0m 26ms/step - accuracy: 0.9346 - loss: 0.1591 - val_accuracy: 0.9016 - val_loss: 0.2831\n",
      "Epoch 30/30\n",
      "\u001b[1m665/665\u001b[0m \u001b[32m━━━━━━━━━━━━━━━━━━━━\u001b[0m\u001b[37m\u001b[0m \u001b[1m17s\u001b[0m 26ms/step - accuracy: 0.9345 - loss: 0.1569 - val_accuracy: 0.8943 - val_loss: 0.2692\n"
     ]
    }
   ],
   "source": [
    "\n",
    "from tensorflow.keras.optimizers import Adam\n",
    "\n",
    "model.compile(optimizer=Adam(), loss='categorical_crossentropy', metrics=['accuracy'])\n",
    "history = model.fit(x_train, y_train_bin, epochs=30, batch_size=64, validation_split=0.15)\n"
   ]
  },
  {
   "cell_type": "markdown",
   "id": "733cdaf0",
   "metadata": {},
   "source": [
    "\n",
    "## Evaluate the Model\n",
    "We evaluate the model on the test dataset and calculate additional metrics such as precision, recall, and F1-score.\n"
   ]
  },
  {
   "cell_type": "code",
   "execution_count": 10,
   "id": "9c053b1c",
   "metadata": {},
   "outputs": [
    {
     "name": "stdout",
     "output_type": "stream",
     "text": [
      "\u001b[1m313/313\u001b[0m \u001b[32m━━━━━━━━━━━━━━━━━━━━\u001b[0m\u001b[37m\u001b[0m \u001b[1m1s\u001b[0m 2ms/step\n",
      "Confusion Matrix:\n",
      " [[7380  620]\n",
      " [ 450 1550]]\n"
     ]
    },
    {
     "data": {
      "image/png": "[encoded data removed]",
      "text/plain": [
       "<Figure size 1000x700 with 2 Axes>"
      ]
     },
     "metadata": {},
     "output_type": "display_data"
    },
    {
     "name": "stdout",
     "output_type": "stream",
     "text": [
      "\n",
      "Classification Report:\n",
      "               precision    recall  f1-score   support\n",
      "\n",
      "  Cannot Fly       0.94      0.92      0.93      8000\n",
      "     Can Fly       0.71      0.78      0.74      2000\n",
      "\n",
      "    accuracy                           0.89     10000\n",
      "   macro avg       0.83      0.85      0.84     10000\n",
      "weighted avg       0.90      0.89      0.89     10000\n",
      "\n"
     ]
    }
   ],
   "source": [
    "\n",
    "from sklearn.metrics import classification_report, confusion_matrix\n",
    "import matplotlib.pyplot as plt \n",
    "import seaborn as sns\n",
    "\n",
    "# Predict the test set\n",
    "predictions = model.predict(x_test)\n",
    "predicted_classes = np.argmax(predictions, axis=1)\n",
    "true_classes = np.argmax(y_test_bin, axis=1)\n",
    "\n",
    "# Confusion matrix and classification report\n",
    "cm = confusion_matrix(true_classes, predicted_classes)\n",
    "report = classification_report(true_classes, predicted_classes, target_names=['Cannot Fly', 'Can Fly'])\n",
    "\n",
    "print(\"Confusion Matrix:\\n\", cm)\n",
    "plt.figure(figsize=(10, 7))\n",
    "sns.heatmap(cm, annot=True, fmt='d', cmap='Blues')\n",
    "plt.xlabel('Predicted')\n",
    "plt.ylabel('True')\n",
    "plt.title('Confusion Matrix')\n",
    "plt.show()\n",
    "\n",
    "\n",
    "print(\"\\nClassification Report:\\n\", report)\n"
   ]
  },
  {
   "cell_type": "markdown",
   "id": "2c544a40",
   "metadata": {},
   "source": [
    "## Analysis and Observations\n"
   ]
  },
  {
   "cell_type": "markdown",
   "id": "a5a9382f",
   "metadata": {},
   "source": [
    "##### Confusion Matrix Insights:"
   ]
  },
  {
   "cell_type": "markdown",
   "id": "35045569",
   "metadata": {},
   "source": [
    "\n",
    "\n",
    "The confusion matrix shows that:\n",
    "- 7380 \"Cannot Fly\" objects were correctly classified, while 620 were misclassified as \"Can Fly\".\n",
    "- 1550 \"Can Fly\" objects were correctly classified, while 450 were misclassified as \"Cannot Fly\".\n",
    "\n",
    "     This highlights a higher tendency to misclassify \"Can Fly\" objects as \"Cannot Fly\" compared to the reverse."
   ]
  },
  {
   "cell_type": "markdown",
   "id": "d758b56d",
   "metadata": {},
   "source": [
    "#####  Precision and Recall:"
   ]
  },
  {
   "cell_type": "markdown",
   "id": "bdd124ff",
   "metadata": {},
   "source": [
    "- The model exhibits higher precision (0.94) and recall (0.92) for the \"Cannot Fly\" category, which is likely due to the larger representation of this class in the dataset. This suggests that the model is highly effective at correctly identifying non-flying objects.\n",
    "\n",
    "- The \"Can Fly\" category, while achieving a respectable recall of 0.78, has a lower precision of 0.71. This indicates that there are some false positives where the model incorrectly identifies non-flying objects as flying ones."
   ]
  },
  {
   "cell_type": "markdown",
   "id": "4a4a0923",
   "metadata": {},
   "source": [
    "##### Class Imbalance Impact:\n",
    "\n"
   ]
  },
  {
   "cell_type": "markdown",
   "id": "c5b26438",
   "metadata": {},
   "source": [
    "- The larger number of \"Cannot Fly\" instances (8000) compared to \"Can Fly\" instances (2000) may have influenced the model's performance, making it more proficient in identifying non-flying objects."
   ]
  },
  {
   "cell_type": "markdown",
   "id": "0bf7523d",
   "metadata": {},
   "source": [
    "## Conclusion"
   ]
  },
  {
   "cell_type": "markdown",
   "id": "79c9dcb1",
   "metadata": {},
   "source": [
    "The CNN model demonstrates solid performance in classifying CIFAR-10 images into \"can fly\" and \"cannot fly\" categories, particularly excelling in identifying non-flying objects. However, there is room for improvement in the precision of the \"Can Fly\" category. Future work could focus on:\n",
    "- Addressing class imbalance through data augmentation or oversampling techniques.\n",
    "- Experimenting with weighted loss functions to give more importance to the minority class.\n",
    "\n",
    "Further tuning the model architecture and hyperparameters to enhance overall performance, especially for the \"Can Fly\" category"
   ]
  }
 ],
 "metadata": {
  "kernelspec": {
   "display_name": "Python 3 (ipykernel)",
   "language": "python",
   "name": "python3"
  },
  "language_info": {
   "codemirror_mode": {
    "name": "ipython",
    "version": 3
   },
   "file_extension": ".py",
   "mimetype": "text/x-python",
   "name": "python",
   "nbconvert_exporter": "python",
   "pygments_lexer": "ipython3",
   "version": "3.11.5"
  }
 },
 "nbformat": 4,
 "nbformat_minor": 5
}
